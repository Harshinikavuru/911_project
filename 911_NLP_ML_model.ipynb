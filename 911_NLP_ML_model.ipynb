{
 "cells": [
  {
   "cell_type": "code",
   "execution_count": 126,
   "id": "6c3f3afe",
   "metadata": {},
   "outputs": [],
   "source": [
    "import pandas as pd"
   ]
  },
  {
   "cell_type": "code",
   "execution_count": 127,
   "id": "5dd60442",
   "metadata": {},
   "outputs": [],
   "source": [
    "data=pd.read_csv(\"/Users/harshinikavuru/Documents/project/input.csv\")"
   ]
  },
  {
   "cell_type": "code",
   "execution_count": 128,
   "id": "f62bad07",
   "metadata": {},
   "outputs": [],
   "source": [
    "import joblib\n",
    "import re\n",
    "import string\n",
    "\n",
    "import numpy as np\n",
    "import pandas as pd\n",
    "\n",
    "from sklearn.datasets import fetch_20newsgroups\n",
    "from sklearn.feature_extraction.text import CountVectorizer\n",
    "from sklearn.metrics import accuracy_score, cohen_kappa_score, f1_score, classification_report\n",
    "from sklearn.model_selection import StratifiedKFold, train_test_split\n",
    "from sklearn.naive_bayes import MultinomialNB"
   ]
  },
  {
   "cell_type": "code",
   "execution_count": 129,
   "id": "9134dba8",
   "metadata": {},
   "outputs": [],
   "source": [
    "df = pd.DataFrame(\n",
    "    dict(\n",
    "        text=data[\"TEXT\"],\n",
    "        target=data[\"NATURE\"]))"
   ]
  },
  {
   "cell_type": "code",
   "execution_count": 130,
   "id": "73b53c86",
   "metadata": {},
   "outputs": [
    {
     "data": {
      "text/html": [
       "<div>\n",
       "<style scoped>\n",
       "    .dataframe tbody tr th:only-of-type {\n",
       "        vertical-align: middle;\n",
       "    }\n",
       "\n",
       "    .dataframe tbody tr th {\n",
       "        vertical-align: top;\n",
       "    }\n",
       "\n",
       "    .dataframe thead th {\n",
       "        text-align: right;\n",
       "    }\n",
       "</style>\n",
       "<table border=\"1\" class=\"dataframe\">\n",
       "  <thead>\n",
       "    <tr style=\"text-align: right;\">\n",
       "      <th></th>\n",
       "      <th>text</th>\n",
       "      <th>target</th>\n",
       "    </tr>\n",
       "  </thead>\n",
       "  <tbody>\n",
       "    <tr>\n",
       "      <th>0</th>\n",
       "      <td>Oh 911 What's the address of your emergency?\\n...</td>\n",
       "      <td>Chest Pain</td>\n",
       "    </tr>\n",
       "    <tr>\n",
       "      <th>1</th>\n",
       "      <td>911 out is the address of your emergency. Hi, ...</td>\n",
       "      <td>Chest Pain</td>\n",
       "    </tr>\n",
       "    <tr>\n",
       "      <th>2</th>\n",
       "      <td>Call 911 What is the address of your emergency...</td>\n",
       "      <td>Stroke (CVA)</td>\n",
       "    </tr>\n",
       "    <tr>\n",
       "      <th>3</th>\n",
       "      <td>Call 911 What is the address in your emergency...</td>\n",
       "      <td>Stroke (CVA)</td>\n",
       "    </tr>\n",
       "    <tr>\n",
       "      <th>4</th>\n",
       "      <td>Oh 911 What's the address of your emergency?\\n...</td>\n",
       "      <td>Chest Pain</td>\n",
       "    </tr>\n",
       "    <tr>\n",
       "      <th>5</th>\n",
       "      <td>911 What's your address your emergency 7485 Lu...</td>\n",
       "      <td>Sick Person</td>\n",
       "    </tr>\n",
       "    <tr>\n",
       "      <th>6</th>\n",
       "      <td>Oh 911 What's the address of your emergency? A...</td>\n",
       "      <td>Sick Person</td>\n",
       "    </tr>\n",
       "    <tr>\n",
       "      <th>7</th>\n",
       "      <td>Oh 911 What is the address in your emergency? ...</td>\n",
       "      <td>Sick Person</td>\n",
       "    </tr>\n",
       "    <tr>\n",
       "      <th>8</th>\n",
       "      <td>Call 911 What is the address of your emergency...</td>\n",
       "      <td>Stroke (CVA)</td>\n",
       "    </tr>\n",
       "    <tr>\n",
       "      <th>9</th>\n",
       "      <td>911 What's your emergency 36 corduroy Road in ...</td>\n",
       "      <td>Sick Person</td>\n",
       "    </tr>\n",
       "    <tr>\n",
       "      <th>10</th>\n",
       "      <td>911 What's your emergency 36 corduroy Road in ...</td>\n",
       "      <td>Sick Person</td>\n",
       "    </tr>\n",
       "    <tr>\n",
       "      <th>11</th>\n",
       "      <td>Oh 911 What's the address of your emergency?\\n...</td>\n",
       "      <td>Difficulty Breathing</td>\n",
       "    </tr>\n",
       "    <tr>\n",
       "      <th>12</th>\n",
       "      <td>911 What's the address of your emergency? 26 N...</td>\n",
       "      <td>Difficulty Breathing</td>\n",
       "    </tr>\n",
       "    <tr>\n",
       "      <th>13</th>\n",
       "      <td>911 What's the address my emergency? I'm at th...</td>\n",
       "      <td>Difficulty Breathing</td>\n",
       "    </tr>\n",
       "    <tr>\n",
       "      <th>14</th>\n",
       "      <td>911 What's the location in your emergency? In ...</td>\n",
       "      <td>Difficulty Breathing</td>\n",
       "    </tr>\n",
       "    <tr>\n",
       "      <th>15</th>\n",
       "      <td>Oh? 911 What's the address of your emergency? ...</td>\n",
       "      <td>Difficulty Breathing</td>\n",
       "    </tr>\n",
       "    <tr>\n",
       "      <th>16</th>\n",
       "      <td>I'm one What's your address of your emergency?...</td>\n",
       "      <td>Mental Health Crisis</td>\n",
       "    </tr>\n",
       "    <tr>\n",
       "      <th>17</th>\n",
       "      <td>Oh 911 would have the address emergency. I jus...</td>\n",
       "      <td>Mental Health Crisis</td>\n",
       "    </tr>\n",
       "    <tr>\n",
       "      <th>18</th>\n",
       "      <td>911 What's the address my emergency? One a fiv...</td>\n",
       "      <td>Mental Health Crisis</td>\n",
       "    </tr>\n",
       "    <tr>\n",
       "      <th>19</th>\n",
       "      <td>911 What's the address my emergency? One a fiv...</td>\n",
       "      <td>Mental Health Crisis</td>\n",
       "    </tr>\n",
       "    <tr>\n",
       "      <th>20</th>\n",
       "      <td>911 What's the address of your emergency? That...</td>\n",
       "      <td>Sick Person</td>\n",
       "    </tr>\n",
       "    <tr>\n",
       "      <th>21</th>\n",
       "      <td>911 What's the address the emergency? It's 149...</td>\n",
       "      <td>Sick Person</td>\n",
       "    </tr>\n",
       "    <tr>\n",
       "      <th>22</th>\n",
       "      <td>Hello did 911 What is the address in your emer...</td>\n",
       "      <td>Sick Person</td>\n",
       "    </tr>\n",
       "    <tr>\n",
       "      <th>23</th>\n",
       "      <td>I'm one What's your address of your emergency?...</td>\n",
       "      <td>Sick Person</td>\n",
       "    </tr>\n",
       "    <tr>\n",
       "      <th>24</th>\n",
       "      <td>One one, what's the address of your emergency?...</td>\n",
       "      <td>Sick Person</td>\n",
       "    </tr>\n",
       "    <tr>\n",
       "      <th>25</th>\n",
       "      <td>Call 911 What is the address of your emergency...</td>\n",
       "      <td>Sick Person</td>\n",
       "    </tr>\n",
       "  </tbody>\n",
       "</table>\n",
       "</div>"
      ],
      "text/plain": [
       "                                                 text                target\n",
       "0   Oh 911 What's the address of your emergency?\\n...            Chest Pain\n",
       "1   911 out is the address of your emergency. Hi, ...            Chest Pain\n",
       "2   Call 911 What is the address of your emergency...          Stroke (CVA)\n",
       "3   Call 911 What is the address in your emergency...          Stroke (CVA)\n",
       "4   Oh 911 What's the address of your emergency?\\n...            Chest Pain\n",
       "5   911 What's your address your emergency 7485 Lu...           Sick Person\n",
       "6   Oh 911 What's the address of your emergency? A...           Sick Person\n",
       "7   Oh 911 What is the address in your emergency? ...           Sick Person\n",
       "8   Call 911 What is the address of your emergency...          Stroke (CVA)\n",
       "9   911 What's your emergency 36 corduroy Road in ...           Sick Person\n",
       "10  911 What's your emergency 36 corduroy Road in ...           Sick Person\n",
       "11  Oh 911 What's the address of your emergency?\\n...  Difficulty Breathing\n",
       "12  911 What's the address of your emergency? 26 N...  Difficulty Breathing\n",
       "13  911 What's the address my emergency? I'm at th...  Difficulty Breathing\n",
       "14  911 What's the location in your emergency? In ...  Difficulty Breathing\n",
       "15  Oh? 911 What's the address of your emergency? ...  Difficulty Breathing\n",
       "16  I'm one What's your address of your emergency?...  Mental Health Crisis\n",
       "17  Oh 911 would have the address emergency. I jus...  Mental Health Crisis\n",
       "18  911 What's the address my emergency? One a fiv...  Mental Health Crisis\n",
       "19  911 What's the address my emergency? One a fiv...  Mental Health Crisis\n",
       "20  911 What's the address of your emergency? That...           Sick Person\n",
       "21  911 What's the address the emergency? It's 149...           Sick Person\n",
       "22  Hello did 911 What is the address in your emer...           Sick Person\n",
       "23  I'm one What's your address of your emergency?...           Sick Person\n",
       "24  One one, what's the address of your emergency?...           Sick Person\n",
       "25  Call 911 What is the address of your emergency...           Sick Person"
      ]
     },
     "execution_count": 130,
     "metadata": {},
     "output_type": "execute_result"
    }
   ],
   "source": [
    "df"
   ]
  },
  {
   "cell_type": "code",
   "execution_count": 132,
   "id": "62d4d404",
   "metadata": {},
   "outputs": [
    {
     "data": {
      "text/plain": [
       "\"Oh 911 What's the address of your emergency?\\n \\n Yeah, the admiral says, I have a question for you. Well, we're, my boyfriend said he was having a little bit of chest pain or some kind of hurt. And he kind of got a little bit lightheaded. And he felt like he was gonna pass out and his heart was racing. Is there any way I can just get like, paramedics over there to look at him not running license.\\n \\n What's the address that he's at?\\n \\n It's 321. Road. Delaware, Ohio.\\n \\n Okay, what apartment number? Sweet. One point. You said 128.\\n \\n Yeah.\\n \\n Okay. How old is your boyfriend?\\n \\n 26.\\n \\n Does he have any type of heart history?\\n \\n You don't have anything heart history related? No.\\n \\n Okay. Are you on seeing there with him? Yeah. Okay. What's your first name? Bernie. Bernie, what's the phone number you call from?\\n \\n 740-953-0203. When they come into conflict, there's a bunch of dump trucks inside the building. And like I said, if you cannot run a license islands, I'd appreciate it.\\n \\n I'll let them know but they have to respond from their protocol. Okay. Okay, where's the pain in his chest located?\\n \\n He said the left side.\\n \\n Did it come on suddenly, or did it come on gradually? Suddenly?\\n \\n Yes, that was all of a sudden.\\n \\n When did it start for him? Brittany?\\n \\n When does it start? 510 minutes ago,\\n \\n okay. I guess that we've got the medics started that way. If you have pain anywhere else I can is back or arm or leg, left arm. Left arm\\n \\n like muscle.\\n \\n Okay. Because the pain get worse when he breezed moves. You're\\n \\n worse than somebody moves along.\\n \\n Yeah. Okay. It's a shorter breath at all. Brittany\\n \\n \""
      ]
     },
     "execution_count": 132,
     "metadata": {},
     "output_type": "execute_result"
    }
   ],
   "source": [
    "df['text'][0]"
   ]
  },
  {
   "cell_type": "code",
   "execution_count": 110,
   "id": "2195822a",
   "metadata": {},
   "outputs": [],
   "source": [
    "def process_text(text):\n",
    "    text = str(text).lower()\n",
    "#     text = re.sub(\n",
    "#         f\"[{re.escape(string.punctuation)}]\", \" \", text\n",
    "#     )\n",
    "    text = \" \".join(text.split())\n",
    "    return text\n",
    "\n",
    "df[\"clean_text\"] = df.text.map(process_text)"
   ]
  },
  {
   "cell_type": "code",
   "execution_count": 111,
   "id": "29c7ed0b",
   "metadata": {
    "scrolled": true
   },
   "outputs": [
    {
     "data": {
      "text/plain": [
       "\"oh 911 what's the address of your emergency? yeah, the admiral says, i have a question for you. well, we're, my boyfriend said he was having a little bit of chest pain or some kind of hurt. and he kind of got a little bit lightheaded. and he felt like he was gonna pass out and his heart was racing. is there any way i can just get like, paramedics over there to look at him not running license. what's the address that he's at? it's 321. road. delaware, ohio. okay, what apartment number? sweet. one point. you said 128. yeah. okay. how old is your boyfriend? 26. does he have any type of heart history? you don't have anything heart history related? no. okay. are you on seeing there with him? yeah. okay. what's your first name? bernie. bernie, what's the phone number you call from? 740-953-0203. when they come into conflict, there's a bunch of dump trucks inside the building. and like i said, if you cannot run a license islands, i'd appreciate it. i'll let them know but they have to respond from their protocol. okay. okay, where's the pain in his chest located? he said the left side. did it come on suddenly, or did it come on gradually? suddenly? yes, that was all of a sudden. when did it start for him? brittany? when does it start? 510 minutes ago, okay. i guess that we've got the medics started that way. if you have pain anywhere else i can is back or arm or leg, left arm. left arm like muscle. okay. because the pain get worse when he breezed moves. you're worse than somebody moves along. yeah. okay. it's a shorter breath at all. brittany\""
      ]
     },
     "execution_count": 111,
     "metadata": {},
     "output_type": "execute_result"
    }
   ],
   "source": [
    "df[\"clean_text\"][0]"
   ]
  },
  {
   "cell_type": "code",
   "execution_count": 112,
   "id": "ce98b551",
   "metadata": {},
   "outputs": [],
   "source": [
    "import re\n",
    "def unicodes_remove(text):\n",
    "    text = re.sub(r\"(@\\[A-Za-z0-9]+)|([^0-9A-Za-z \\t])|(\\w+:\\/\\/\\S+)|^rt|http.+?\", \"\", text)\n",
    "    return text\n",
    "df[\"clean_text\"] = df.clean_text.map(unicodes_remove)\n"
   ]
  },
  {
   "cell_type": "code",
   "execution_count": 113,
   "id": "b45d6c65",
   "metadata": {
    "scrolled": true
   },
   "outputs": [
    {
     "data": {
      "text/plain": [
       "'oh 911 whats the address of your emergency yeah the admiral says i have a question for you well were my boyfriend said he was having a little bit of chest pain or some kind of hurt and he kind of got a little bit lightheaded and he felt like he was gonna pass out and his heart was racing is there any way i can just get like paramedics over there to look at him not running license whats the address that hes at its 321 road delaware ohio okay what apartment number sweet one point you said 128 yeah okay how old is your boyfriend 26 does he have any type of heart history you dont have anything heart history related no okay are you on seeing there with him yeah okay whats your first name bernie bernie whats the phone number you call from 7409530203 when they come into conflict theres a bunch of dump trucks inside the building and like i said if you cannot run a license islands id appreciate it ill let them know but they have to respond from their protocol okay okay wheres the pain in his chest located he said the left side did it come on suddenly or did it come on gradually suddenly yes that was all of a sudden when did it start for him brittany when does it start 510 minutes ago okay i guess that weve got the medics started that way if you have pain anywhere else i can is back or arm or leg left arm left arm like muscle okay because the pain get worse when he breezed moves youre worse than somebody moves along yeah okay its a shorter breath at all brittany'"
      ]
     },
     "execution_count": 113,
     "metadata": {},
     "output_type": "execute_result"
    }
   ],
   "source": [
    "df[\"clean_text\"][0]"
   ]
  },
  {
   "cell_type": "code",
   "execution_count": 114,
   "id": "af3e426a",
   "metadata": {},
   "outputs": [
    {
     "name": "stderr",
     "output_type": "stream",
     "text": [
      "[nltk_data] Downloading package stopwords to\n",
      "[nltk_data]     /Users/harshinikavuru/nltk_data...\n",
      "[nltk_data]   Package stopwords is already up-to-date!\n"
     ]
    }
   ],
   "source": [
    "import nltk.corpus\n",
    "nltk.download('stopwords')\n",
    "from nltk.corpus import stopwords\n",
    "stop = stopwords.words('english')\n",
    "def remove_stopwords(text):\n",
    "    text = \" \".join([word for word in text.split() if word not in (stop)])\n",
    "    return text\n",
    "df[\"clean_text\"] = df.clean_text.map(remove_stopwords)"
   ]
  },
  {
   "cell_type": "code",
   "execution_count": 115,
   "id": "aa73e9fa",
   "metadata": {},
   "outputs": [
    {
     "data": {
      "text/plain": [
       "'oh 911 whats address emergency yeah admiral says question well boyfriend said little bit chest pain kind hurt kind got little bit lightheaded felt like gonna pass heart racing way get like paramedics look running license whats address hes 321 road delaware ohio okay apartment number sweet one point said 128 yeah okay old boyfriend 26 type heart history dont anything heart history related okay seeing yeah okay whats first name bernie bernie whats phone number call 7409530203 come conflict theres bunch dump trucks inside building like said cannot run license islands id appreciate ill let know respond protocol okay okay wheres pain chest located said left side come suddenly come gradually suddenly yes sudden start brittany start 510 minutes ago okay guess weve got medics started way pain anywhere else back arm leg left arm left arm like muscle okay pain get worse breezed moves youre worse somebody moves along yeah okay shorter breath brittany'"
      ]
     },
     "execution_count": 115,
     "metadata": {},
     "output_type": "execute_result"
    }
   ],
   "source": [
    "df[\"clean_text\"][0]"
   ]
  },
  {
   "cell_type": "code",
   "execution_count": 116,
   "id": "9df54762",
   "metadata": {},
   "outputs": [
    {
     "name": "stdout",
     "output_type": "stream",
     "text": [
      "['Chest Pain' 'Difficulty Breathing' 'Mental Health Crisis' 'Sick Person'\n",
      " 'Stroke (CVA)']\n"
     ]
    }
   ],
   "source": [
    "print(np.unique(df[\"target\"]))"
   ]
  },
  {
   "cell_type": "code",
   "execution_count": 117,
   "id": "07ae5af9",
   "metadata": {},
   "outputs": [
    {
     "data": {
      "text/html": [
       "<div>\n",
       "<style scoped>\n",
       "    .dataframe tbody tr th:only-of-type {\n",
       "        vertical-align: middle;\n",
       "    }\n",
       "\n",
       "    .dataframe tbody tr th {\n",
       "        vertical-align: top;\n",
       "    }\n",
       "\n",
       "    .dataframe thead th {\n",
       "        text-align: right;\n",
       "    }\n",
       "</style>\n",
       "<table border=\"1\" class=\"dataframe\">\n",
       "  <thead>\n",
       "    <tr style=\"text-align: right;\">\n",
       "      <th></th>\n",
       "      <th>text</th>\n",
       "      <th>target</th>\n",
       "      <th>clean_text</th>\n",
       "    </tr>\n",
       "  </thead>\n",
       "  <tbody>\n",
       "    <tr>\n",
       "      <th>0</th>\n",
       "      <td>Oh 911 What's the address of your emergency?\\n...</td>\n",
       "      <td>Chest Pain</td>\n",
       "      <td>oh 911 whats address emergency yeah admiral sa...</td>\n",
       "    </tr>\n",
       "    <tr>\n",
       "      <th>1</th>\n",
       "      <td>911 out is the address of your emergency. Hi, ...</td>\n",
       "      <td>Chest Pain</td>\n",
       "      <td>911 address emergency hi please send officer t...</td>\n",
       "    </tr>\n",
       "    <tr>\n",
       "      <th>2</th>\n",
       "      <td>Call 911 What is the address of your emergency...</td>\n",
       "      <td>Stroke (CVA)</td>\n",
       "      <td>call 911 address emergency hi 214 trotters cir...</td>\n",
       "    </tr>\n",
       "    <tr>\n",
       "      <th>3</th>\n",
       "      <td>Call 911 What is the address in your emergency...</td>\n",
       "      <td>Stroke (CVA)</td>\n",
       "      <td>call 911 address emergency 3629 chapman road 3...</td>\n",
       "    </tr>\n",
       "    <tr>\n",
       "      <th>4</th>\n",
       "      <td>Oh 911 What's the address of your emergency?\\n...</td>\n",
       "      <td>Chest Pain</td>\n",
       "      <td>oh 911 whats address emergency yeah admiral sa...</td>\n",
       "    </tr>\n",
       "    <tr>\n",
       "      <th>5</th>\n",
       "      <td>911 What's your address your emergency 7485 Lu...</td>\n",
       "      <td>Sick Person</td>\n",
       "      <td>911 whats address emergency 7485 luneta lai la...</td>\n",
       "    </tr>\n",
       "    <tr>\n",
       "      <th>6</th>\n",
       "      <td>Oh 911 What's the address of your emergency? A...</td>\n",
       "      <td>Sick Person</td>\n",
       "      <td>oh 911 whats address emergency 702 kirkland dr...</td>\n",
       "    </tr>\n",
       "    <tr>\n",
       "      <th>7</th>\n",
       "      <td>Oh 911 What is the address in your emergency? ...</td>\n",
       "      <td>Sick Person</td>\n",
       "      <td>oh 911 address emergency 936 little bear loop ...</td>\n",
       "    </tr>\n",
       "    <tr>\n",
       "      <th>8</th>\n",
       "      <td>Call 911 What is the address of your emergency...</td>\n",
       "      <td>Stroke (CVA)</td>\n",
       "      <td>call 911 address emergency hi 214 trotters cir...</td>\n",
       "    </tr>\n",
       "    <tr>\n",
       "      <th>9</th>\n",
       "      <td>911 What's your emergency 36 corduroy Road in ...</td>\n",
       "      <td>Sick Person</td>\n",
       "      <td>911 whats emergency 36 corduroy road delaware ...</td>\n",
       "    </tr>\n",
       "    <tr>\n",
       "      <th>10</th>\n",
       "      <td>911 What's your emergency 36 corduroy Road in ...</td>\n",
       "      <td>Sick Person</td>\n",
       "      <td>911 whats emergency 36 corduroy road delaware ...</td>\n",
       "    </tr>\n",
       "    <tr>\n",
       "      <th>11</th>\n",
       "      <td>Oh 911 What's the address of your emergency?\\n...</td>\n",
       "      <td>Difficulty Breathing</td>\n",
       "      <td>oh 911 whats address emergency yeah admiral sa...</td>\n",
       "    </tr>\n",
       "    <tr>\n",
       "      <th>12</th>\n",
       "      <td>911 What's the address of your emergency? 26 N...</td>\n",
       "      <td>Difficulty Breathing</td>\n",
       "      <td>911 whats address emergency 26 north union str...</td>\n",
       "    </tr>\n",
       "    <tr>\n",
       "      <th>13</th>\n",
       "      <td>911 What's the address my emergency? I'm at th...</td>\n",
       "      <td>Difficulty Breathing</td>\n",
       "      <td>911 whats address emergency im corner park ave...</td>\n",
       "    </tr>\n",
       "    <tr>\n",
       "      <th>14</th>\n",
       "      <td>911 What's the location in your emergency? In ...</td>\n",
       "      <td>Difficulty Breathing</td>\n",
       "      <td>911 whats location emergency called five minut...</td>\n",
       "    </tr>\n",
       "    <tr>\n",
       "      <th>15</th>\n",
       "      <td>Oh? 911 What's the address of your emergency? ...</td>\n",
       "      <td>Difficulty Breathing</td>\n",
       "      <td>oh 911 whats address emergency yes hit deer st...</td>\n",
       "    </tr>\n",
       "    <tr>\n",
       "      <th>16</th>\n",
       "      <td>I'm one What's your address of your emergency?...</td>\n",
       "      <td>Mental Health Crisis</td>\n",
       "      <td>im one whats address emergency yeah im calling...</td>\n",
       "    </tr>\n",
       "    <tr>\n",
       "      <th>17</th>\n",
       "      <td>Oh 911 would have the address emergency. I jus...</td>\n",
       "      <td>Mental Health Crisis</td>\n",
       "      <td>oh 911 would address emergency want support ca...</td>\n",
       "    </tr>\n",
       "    <tr>\n",
       "      <th>18</th>\n",
       "      <td>911 What's the address my emergency? One a fiv...</td>\n",
       "      <td>Mental Health Crisis</td>\n",
       "      <td>911 whats address emergency one five north wal...</td>\n",
       "    </tr>\n",
       "    <tr>\n",
       "      <th>19</th>\n",
       "      <td>911 What's the address my emergency? One a fiv...</td>\n",
       "      <td>Mental Health Crisis</td>\n",
       "      <td>911 whats address emergency one five north wal...</td>\n",
       "    </tr>\n",
       "    <tr>\n",
       "      <th>20</th>\n",
       "      <td>911 What's the address of your emergency? That...</td>\n",
       "      <td>Sick Person</td>\n",
       "      <td>911 whats address emergency thats okay line go...</td>\n",
       "    </tr>\n",
       "    <tr>\n",
       "      <th>21</th>\n",
       "      <td>911 What's the address the emergency? It's 149...</td>\n",
       "      <td>Sick Person</td>\n",
       "      <td>911 whats address emergency 14961 north old th...</td>\n",
       "    </tr>\n",
       "    <tr>\n",
       "      <th>22</th>\n",
       "      <td>Hello did 911 What is the address in your emer...</td>\n",
       "      <td>Sick Person</td>\n",
       "      <td>hello 911 address emergency emergency idea con...</td>\n",
       "    </tr>\n",
       "    <tr>\n",
       "      <th>23</th>\n",
       "      <td>I'm one What's your address of your emergency?...</td>\n",
       "      <td>Sick Person</td>\n",
       "      <td>im one whats address emergency yeah im calling...</td>\n",
       "    </tr>\n",
       "    <tr>\n",
       "      <th>24</th>\n",
       "      <td>One one, what's the address of your emergency?...</td>\n",
       "      <td>Sick Person</td>\n",
       "      <td>one one whats address emergency hi need report...</td>\n",
       "    </tr>\n",
       "    <tr>\n",
       "      <th>25</th>\n",
       "      <td>Call 911 What is the address of your emergency...</td>\n",
       "      <td>Sick Person</td>\n",
       "      <td>call 911 address emergency dialed mistake okay...</td>\n",
       "    </tr>\n",
       "  </tbody>\n",
       "</table>\n",
       "</div>"
      ],
      "text/plain": [
       "                                                 text                target  \\\n",
       "0   Oh 911 What's the address of your emergency?\\n...            Chest Pain   \n",
       "1   911 out is the address of your emergency. Hi, ...            Chest Pain   \n",
       "2   Call 911 What is the address of your emergency...          Stroke (CVA)   \n",
       "3   Call 911 What is the address in your emergency...          Stroke (CVA)   \n",
       "4   Oh 911 What's the address of your emergency?\\n...            Chest Pain   \n",
       "5   911 What's your address your emergency 7485 Lu...           Sick Person   \n",
       "6   Oh 911 What's the address of your emergency? A...           Sick Person   \n",
       "7   Oh 911 What is the address in your emergency? ...           Sick Person   \n",
       "8   Call 911 What is the address of your emergency...          Stroke (CVA)   \n",
       "9   911 What's your emergency 36 corduroy Road in ...           Sick Person   \n",
       "10  911 What's your emergency 36 corduroy Road in ...           Sick Person   \n",
       "11  Oh 911 What's the address of your emergency?\\n...  Difficulty Breathing   \n",
       "12  911 What's the address of your emergency? 26 N...  Difficulty Breathing   \n",
       "13  911 What's the address my emergency? I'm at th...  Difficulty Breathing   \n",
       "14  911 What's the location in your emergency? In ...  Difficulty Breathing   \n",
       "15  Oh? 911 What's the address of your emergency? ...  Difficulty Breathing   \n",
       "16  I'm one What's your address of your emergency?...  Mental Health Crisis   \n",
       "17  Oh 911 would have the address emergency. I jus...  Mental Health Crisis   \n",
       "18  911 What's the address my emergency? One a fiv...  Mental Health Crisis   \n",
       "19  911 What's the address my emergency? One a fiv...  Mental Health Crisis   \n",
       "20  911 What's the address of your emergency? That...           Sick Person   \n",
       "21  911 What's the address the emergency? It's 149...           Sick Person   \n",
       "22  Hello did 911 What is the address in your emer...           Sick Person   \n",
       "23  I'm one What's your address of your emergency?...           Sick Person   \n",
       "24  One one, what's the address of your emergency?...           Sick Person   \n",
       "25  Call 911 What is the address of your emergency...           Sick Person   \n",
       "\n",
       "                                           clean_text  \n",
       "0   oh 911 whats address emergency yeah admiral sa...  \n",
       "1   911 address emergency hi please send officer t...  \n",
       "2   call 911 address emergency hi 214 trotters cir...  \n",
       "3   call 911 address emergency 3629 chapman road 3...  \n",
       "4   oh 911 whats address emergency yeah admiral sa...  \n",
       "5   911 whats address emergency 7485 luneta lai la...  \n",
       "6   oh 911 whats address emergency 702 kirkland dr...  \n",
       "7   oh 911 address emergency 936 little bear loop ...  \n",
       "8   call 911 address emergency hi 214 trotters cir...  \n",
       "9   911 whats emergency 36 corduroy road delaware ...  \n",
       "10  911 whats emergency 36 corduroy road delaware ...  \n",
       "11  oh 911 whats address emergency yeah admiral sa...  \n",
       "12  911 whats address emergency 26 north union str...  \n",
       "13  911 whats address emergency im corner park ave...  \n",
       "14  911 whats location emergency called five minut...  \n",
       "15  oh 911 whats address emergency yes hit deer st...  \n",
       "16  im one whats address emergency yeah im calling...  \n",
       "17  oh 911 would address emergency want support ca...  \n",
       "18  911 whats address emergency one five north wal...  \n",
       "19  911 whats address emergency one five north wal...  \n",
       "20  911 whats address emergency thats okay line go...  \n",
       "21  911 whats address emergency 14961 north old th...  \n",
       "22  hello 911 address emergency emergency idea con...  \n",
       "23  im one whats address emergency yeah im calling...  \n",
       "24  one one whats address emergency hi need report...  \n",
       "25  call 911 address emergency dialed mistake okay...  "
      ]
     },
     "execution_count": 117,
     "metadata": {},
     "output_type": "execute_result"
    }
   ],
   "source": [
    "df"
   ]
  },
  {
   "cell_type": "code",
   "execution_count": 118,
   "id": "526c0500",
   "metadata": {},
   "outputs": [],
   "source": [
    "df_train, df_test = train_test_split(df, test_size=0.20, stratify=df.target)"
   ]
  },
  {
   "cell_type": "code",
   "execution_count": 119,
   "id": "921ca6fb",
   "metadata": {},
   "outputs": [],
   "source": [
    "vec = CountVectorizer(\n",
    "    ngram_range=(1, 3), \n",
    "    stop_words=\"english\",\n",
    ")\n",
    "\n",
    "X_train = vec.fit_transform(df_train.clean_text)\n",
    "X_test = vec.transform(df_test.clean_text)\n",
    "\n",
    "y_train = df_train.target\n",
    "y_test = df_test.target"
   ]
  },
  {
   "cell_type": "code",
   "execution_count": 120,
   "id": "795027d8",
   "metadata": {
    "scrolled": true
   },
   "outputs": [
    {
     "name": "stdout",
     "output_type": "stream",
     "text": [
      "                      precision    recall  f1-score   support\n",
      "\n",
      "          Chest Pain       0.00      0.00      0.00         1\n",
      "Difficulty Breathing       0.00      0.00      0.00         1\n",
      "Mental Health Crisis       0.00      0.00      0.00         1\n",
      "         Sick Person       0.50      1.00      0.67         2\n",
      "        Stroke (CVA)       1.00      1.00      1.00         1\n",
      "\n",
      "            accuracy                           0.50         6\n",
      "           macro avg       0.30      0.40      0.33         6\n",
      "        weighted avg       0.33      0.50      0.39         6\n",
      "\n"
     ]
    },
    {
     "name": "stderr",
     "output_type": "stream",
     "text": [
      "/Users/harshinikavuru/opt/anaconda3/lib/python3.9/site-packages/sklearn/metrics/_classification.py:1318: UndefinedMetricWarning: Precision and F-score are ill-defined and being set to 0.0 in labels with no predicted samples. Use `zero_division` parameter to control this behavior.\n",
      "  _warn_prf(average, modifier, msg_start, len(result))\n",
      "/Users/harshinikavuru/opt/anaconda3/lib/python3.9/site-packages/sklearn/metrics/_classification.py:1318: UndefinedMetricWarning: Precision and F-score are ill-defined and being set to 0.0 in labels with no predicted samples. Use `zero_division` parameter to control this behavior.\n",
      "  _warn_prf(average, modifier, msg_start, len(result))\n",
      "/Users/harshinikavuru/opt/anaconda3/lib/python3.9/site-packages/sklearn/metrics/_classification.py:1318: UndefinedMetricWarning: Precision and F-score are ill-defined and being set to 0.0 in labels with no predicted samples. Use `zero_division` parameter to control this behavior.\n",
      "  _warn_prf(average, modifier, msg_start, len(result))\n"
     ]
    }
   ],
   "source": [
    "from sklearn import svm\n",
    "clf = svm.SVC()\n",
    "clf.fit(X_train, y_train)\n",
    "preds = clf.predict(X_test)\n",
    "print(classification_report(y_test, preds))"
   ]
  },
  {
   "cell_type": "code",
   "execution_count": 121,
   "id": "e3a0945a",
   "metadata": {},
   "outputs": [
    {
     "data": {
      "text/plain": [
       "array(['Difficulty Breathing', 'Stroke (CVA)', 'Sick Person',\n",
       "       'Sick Person', 'Sick Person', 'Sick Person'], dtype=object)"
      ]
     },
     "execution_count": 121,
     "metadata": {},
     "output_type": "execute_result"
    }
   ],
   "source": [
    "preds"
   ]
  },
  {
   "cell_type": "code",
   "execution_count": 122,
   "id": "92a353d2",
   "metadata": {},
   "outputs": [
    {
     "data": {
      "text/plain": [
       "4               Chest Pain\n",
       "8             Stroke (CVA)\n",
       "22             Sick Person\n",
       "14    Difficulty Breathing\n",
       "21             Sick Person\n",
       "16    Mental Health Crisis\n",
       "Name: target, dtype: object"
      ]
     },
     "execution_count": 122,
     "metadata": {},
     "output_type": "execute_result"
    }
   ],
   "source": [
    "y_test"
   ]
  },
  {
   "cell_type": "code",
   "execution_count": 123,
   "id": "fd093c15",
   "metadata": {},
   "outputs": [
    {
     "name": "stdout",
     "output_type": "stream",
     "text": [
      "                      precision    recall  f1-score   support\n",
      "\n",
      "          Chest Pain       1.00      1.00      1.00         1\n",
      "Difficulty Breathing       1.00      1.00      1.00         1\n",
      "Mental Health Crisis       0.00      0.00      0.00         1\n",
      "         Sick Person       0.67      1.00      0.80         2\n",
      "        Stroke (CVA)       1.00      1.00      1.00         1\n",
      "\n",
      "            accuracy                           0.83         6\n",
      "           macro avg       0.73      0.80      0.76         6\n",
      "        weighted avg       0.72      0.83      0.77         6\n",
      "\n"
     ]
    },
    {
     "name": "stderr",
     "output_type": "stream",
     "text": [
      "/Users/harshinikavuru/opt/anaconda3/lib/python3.9/site-packages/sklearn/metrics/_classification.py:1318: UndefinedMetricWarning: Precision and F-score are ill-defined and being set to 0.0 in labels with no predicted samples. Use `zero_division` parameter to control this behavior.\n",
      "  _warn_prf(average, modifier, msg_start, len(result))\n",
      "/Users/harshinikavuru/opt/anaconda3/lib/python3.9/site-packages/sklearn/metrics/_classification.py:1318: UndefinedMetricWarning: Precision and F-score are ill-defined and being set to 0.0 in labels with no predicted samples. Use `zero_division` parameter to control this behavior.\n",
      "  _warn_prf(average, modifier, msg_start, len(result))\n",
      "/Users/harshinikavuru/opt/anaconda3/lib/python3.9/site-packages/sklearn/metrics/_classification.py:1318: UndefinedMetricWarning: Precision and F-score are ill-defined and being set to 0.0 in labels with no predicted samples. Use `zero_division` parameter to control this behavior.\n",
      "  _warn_prf(average, modifier, msg_start, len(result))\n"
     ]
    }
   ],
   "source": [
    "nb = MultinomialNB()\n",
    "nb.fit(X_train, y_train)\n",
    "\n",
    "preds = nb.predict(X_test)\n",
    "print(classification_report(y_test, preds))"
   ]
  },
  {
   "cell_type": "code",
   "execution_count": 124,
   "id": "c0dee758",
   "metadata": {},
   "outputs": [
    {
     "data": {
      "text/plain": [
       "array(['Chest Pain', 'Stroke (CVA)', 'Sick Person',\n",
       "       'Difficulty Breathing', 'Sick Person', 'Sick Person'], dtype='<U20')"
      ]
     },
     "execution_count": 124,
     "metadata": {},
     "output_type": "execute_result"
    }
   ],
   "source": [
    "preds"
   ]
  },
  {
   "cell_type": "code",
   "execution_count": 125,
   "id": "a29da60d",
   "metadata": {},
   "outputs": [
    {
     "data": {
      "text/plain": [
       "4               Chest Pain\n",
       "8             Stroke (CVA)\n",
       "22             Sick Person\n",
       "14    Difficulty Breathing\n",
       "21             Sick Person\n",
       "16    Mental Health Crisis\n",
       "Name: target, dtype: object"
      ]
     },
     "execution_count": 125,
     "metadata": {},
     "output_type": "execute_result"
    }
   ],
   "source": [
    "y_test"
   ]
  },
  {
   "cell_type": "code",
   "execution_count": null,
   "id": "7f4f9e25",
   "metadata": {},
   "outputs": [],
   "source": []
  },
  {
   "cell_type": "code",
   "execution_count": null,
   "id": "2b6638b5",
   "metadata": {},
   "outputs": [],
   "source": []
  }
 ],
 "metadata": {
  "kernelspec": {
   "display_name": "Python 3 (ipykernel)",
   "language": "python",
   "name": "python3"
  },
  "language_info": {
   "codemirror_mode": {
    "name": "ipython",
    "version": 3
   },
   "file_extension": ".py",
   "mimetype": "text/x-python",
   "name": "python",
   "nbconvert_exporter": "python",
   "pygments_lexer": "ipython3",
   "version": "3.9.12"
  }
 },
 "nbformat": 4,
 "nbformat_minor": 5
}
